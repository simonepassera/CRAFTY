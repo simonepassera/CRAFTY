{
 "cells": [
  {
   "cell_type": "markdown",
   "id": "f323c851",
   "metadata": {
    "slideshow": {
     "slide_type": "slide"
    }
   },
   "source": [
    "<p style=\"text-align:center;font-size:40px;font-weight:bold;color:#02bd9b\">CRAFTY</p>\n",
    "<p style=\"text-align:center;font-size:35px;font-weight:bold;color:#fea83a\">Simone Passèra</p>"
   ]
  },
  {
   "cell_type": "markdown",
   "id": "4ac16fc4",
   "metadata": {
    "slideshow": {
     "slide_type": "slide"
    }
   },
   "source": [
    "<p style=\"text-align:center;font-size:25px;font-weight:bold;color:#2b96de\">Analisi generali dei dati della blockchain</p>"
   ]
  },
  {
   "cell_type": "markdown",
   "id": "e158a79e",
   "metadata": {
    "slideshow": {
     "slide_type": "slide"
    }
   },
   "source": [
    "<h2 style=\"color:#fe5f5e\">Analisi n.1</h2>\n",
    "\n",
    "* Distribuzione del numero di transazioni per blocco (occupazione del blocco), nell’intero\n",
    "periodo temporale considerato"
   ]
  },
  {
   "cell_type": "markdown",
   "id": "97a941c5",
   "metadata": {
    "slideshow": {
     "slide_type": "slide"
    }
   },
   "source": [
    "<h2 style=\"color:#fe5f5e\">Analisi n.2</h2>\n",
    "\n",
    "* Evoluzione dell'occupazione dei blocchi nel tempo, considerando intervalli temporali di due\n",
    "mesi. In questo caso produrre un grafico che riporti il numero di transazioni medie per ogni\n",
    "periodo considerato"
   ]
  },
  {
   "cell_type": "markdown",
   "id": "a4545deb",
   "metadata": {
    "slideshow": {
     "slide_type": "slide"
    }
   },
   "source": [
    "<h2 style=\"color:#fe5f5e\">Analisi n.3</h2>\n",
    "\n",
    "* Ammontare totale degli **UTXO** al momento dell’ultima transazione registrata nella\n",
    "blockchain considerata"
   ]
  },
  {
   "cell_type": "markdown",
   "id": "99861340",
   "metadata": {
    "slideshow": {
     "slide_type": "slide"
    }
   },
   "source": [
    "<h2 style=\"color:#fe5f5e\">Analisi n.4</h2>\n",
    "\n",
    "* Distribuzione degli intervalli di tempo che intercorrono tra la transazione che genera un\n",
    "valore in output (**UTXO**) e quella che lo consuma, per gli output spesi nel periodo\n",
    "considerato."
   ]
  },
  {
   "cell_type": "markdown",
   "id": "68b394fa",
   "metadata": {
    "slideshow": {
     "slide_type": "slide"
    }
   },
   "source": [
    "<h2 style=\"color:#fe5f5e\">Analisi n.5</h2>\n",
    "\n",
    "* TODO"
   ]
  },
  {
   "cell_type": "markdown",
   "id": "2881661f",
   "metadata": {
    "slideshow": {
     "slide_type": "slide"
    }
   },
   "source": [
    "<p style=\"text-align:center;font-size:25px;font-weight:bold;color:#2b96de\">Clusterizzazione degli indirizzi di Bitcoin: euristica multi-input</p>"
   ]
  },
  {
   "cell_type": "markdown",
   "id": "6d22750a",
   "metadata": {
    "slideshow": {
     "slide_type": "slide"
    }
   },
   "source": [
    "<p style=\"text-align:center;font-size:25px;font-weight:bold;color:#2b96de\">Deanonimizzazione degli indirizzi</p>"
   ]
  }
 ],
 "metadata": {
  "celltoolbar": "Slideshow",
  "kernelspec": {
   "display_name": "Python 3 (ipykernel)",
   "language": "python",
   "name": "python3"
  },
  "language_info": {
   "codemirror_mode": {
    "name": "ipython",
    "version": 3
   },
   "file_extension": ".py",
   "mimetype": "text/x-python",
   "name": "python",
   "nbconvert_exporter": "python",
   "pygments_lexer": "ipython3",
   "version": "3.10.6"
  }
 },
 "nbformat": 4,
 "nbformat_minor": 5
}
